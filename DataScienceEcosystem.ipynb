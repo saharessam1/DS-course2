{
 "cells": [
  {
   "cell_type": "markdown",
   "id": "c25b2926-8f0c-4ce5-aa83-86d93af559e5",
   "metadata": {
    "panel-layout": {
     "height": 60.59375,
     "visible": true,
     "width": 100
    }
   },
   "source": [
    "# Data Science Tools and Ecosystem"
   ]
  },
  {
   "cell_type": "markdown",
   "id": "53dc587d-42ad-4689-8048-fb3351a0b88b",
   "metadata": {
    "panel-layout": {
     "height": 51.140625,
     "visible": true,
     "width": 100
    }
   },
   "source": [
    "In this notebook, Data Science Tools and Ecosystem are summarized."
   ]
  },
  {
   "cell_type": "markdown",
   "id": "0dda7a24-78c3-4c52-a335-3c9429e1763b",
   "metadata": {
    "panel-layout": {
     "height": 148.84375,
     "visible": true,
     "width": 100
    }
   },
   "source": [
    "Some of the popular languages that Data Scientists use are:\n",
    "1. Python\n",
    "2. R\n",
    "3. Sql\n",
    "4. Scala\n",
    "5. Java"
   ]
  },
  {
   "cell_type": "markdown",
   "id": "d21680b7-335b-4efe-a34e-8dde4e66774b",
   "metadata": {
    "panel-layout": {
     "height": 148.84375,
     "visible": true,
     "width": 100
    }
   },
   "source": [
    "Some of the commonly used libraries used by Data Scientists include:\n",
    "1. Pandas\n",
    "2. Numpy\n",
    "3. keras\n",
    "4. plotly\n",
    "5. Matplotlib"
   ]
  },
  {
   "cell_type": "code",
   "execution_count": null,
   "id": "d2b569e6-def4-4b75-9be3-387a1ba8771e",
   "metadata": {},
   "outputs": [],
   "source": []
  },
  {
   "cell_type": "markdown",
   "id": "579bdcbf-8f57-4c59-be25-6a018f4f36b6",
   "metadata": {
    "panel-layout": {
     "height": 123.5625,
     "visible": true,
     "width": 100
    }
   },
   "source": [
    "|Data Science Tools|\n",
    "|------------|\n",
    "|Jupyter Notebook |\n",
    "|Visual Studio Code |\n",
    "|Spark|"
   ]
  },
  {
   "cell_type": "markdown",
   "id": "79018b01-8209-4da5-8b62-a5321c4bab3d",
   "metadata": {
    "panel-layout": {
     "height": 95.3515625,
     "visible": true,
     "width": 100
    }
   },
   "source": [
    "### Below are a few examples of evaluating arithmetic expressions in Python\n",
    "2+7 \n",
    "3*(2-1)"
   ]
  },
  {
   "cell_type": "code",
   "execution_count": 10,
   "id": "e91b24c8-1b93-4ad5-a0da-b95e86222dd9",
   "metadata": {
    "panel-layout": {
     "height": 27.140625,
     "visible": true,
     "width": 100
    }
   },
   "outputs": [
    {
     "data": {
      "text/plain": [
       "17"
      ]
     },
     "execution_count": 10,
     "metadata": {},
     "output_type": "execute_result"
    }
   ],
   "source": [
    "#This a simple arithmetic expression to mutiply then add integers\n",
    "(3*4)+5"
   ]
  },
  {
   "cell_type": "code",
   "execution_count": 12,
   "id": "05a8d903-9a33-4764-a228-017808a56bb4",
   "metadata": {
    "panel-layout": {
     "height": 27.140625,
     "visible": true,
     "width": 100
    }
   },
   "outputs": [
    {
     "data": {
      "text/plain": [
       "3.3333333333333335"
      ]
     },
     "execution_count": 12,
     "metadata": {},
     "output_type": "execute_result"
    }
   ],
   "source": [
    "# This will convert 200 minutes to hours by diving by 60\n",
    "200/60"
   ]
  },
  {
   "cell_type": "markdown",
   "id": "06147b23-f65b-4105-9b3d-0178a873631b",
   "metadata": {
    "panel-layout": {
     "height": 131.703125,
     "visible": true,
     "width": 100
    }
   },
   "source": [
    "**Objectives:**\n",
    "- List populer tools for DS\n",
    "- List populer langouges for Data Science\n",
    "- List commonly used libraries for Data Science\n",
    "- Practicing for using Juypter Notebook\n"
   ]
  },
  {
   "cell_type": "markdown",
   "id": "7efad998-5c4e-4747-a14d-5d4fda68667f",
   "metadata": {
    "panel-layout": {
     "height": 84.40625,
     "visible": true,
     "width": 100
    }
   },
   "source": [
    "## Author\n",
    "Sahar Essam Al Talaa"
   ]
  },
  {
   "cell_type": "code",
   "execution_count": null,
   "id": "cdc21d59-0507-4007-9ab2-93bdaf9c8776",
   "metadata": {},
   "outputs": [],
   "source": []
  }
 ],
 "metadata": {
  "kernelspec": {
   "display_name": "Python [conda env:base] *",
   "language": "python",
   "name": "conda-base-py"
  },
  "language_info": {
   "codemirror_mode": {
    "name": "ipython",
    "version": 3
   },
   "file_extension": ".py",
   "mimetype": "text/x-python",
   "name": "python",
   "nbconvert_exporter": "python",
   "pygments_lexer": "ipython3",
   "version": "3.12.7"
  },
  "panel-cell-order": [
   "c25b2926-8f0c-4ce5-aa83-86d93af559e5",
   "53dc587d-42ad-4689-8048-fb3351a0b88b",
   "0dda7a24-78c3-4c52-a335-3c9429e1763b",
   "d21680b7-335b-4efe-a34e-8dde4e66774b",
   "579bdcbf-8f57-4c59-be25-6a018f4f36b6",
   "79018b01-8209-4da5-8b62-a5321c4bab3d",
   "e91b24c8-1b93-4ad5-a0da-b95e86222dd9",
   "05a8d903-9a33-4764-a228-017808a56bb4",
   "06147b23-f65b-4105-9b3d-0178a873631b",
   "7efad998-5c4e-4747-a14d-5d4fda68667f"
  ]
 },
 "nbformat": 4,
 "nbformat_minor": 5
}
